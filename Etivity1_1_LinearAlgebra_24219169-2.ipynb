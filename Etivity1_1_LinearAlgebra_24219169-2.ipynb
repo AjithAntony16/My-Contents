{
  "cells": [
    {
      "cell_type": "markdown",
      "metadata": {
        "id": "UkKYhmXfdIZU"
      },
      "source": [
        "### Your details"
      ]
    },
    {
      "cell_type": "markdown",
      "metadata": {
        "id": "5T3-i46edIZZ"
      },
      "source": [
        "Your Name: Ajith Antony Shanthi"
      ]
    },
    {
      "cell_type": "markdown",
      "metadata": {
        "id": "zK2iBAtGdIZb"
      },
      "source": [
        "Your ID number: 24219169"
      ]
    },
    {
      "cell_type": "markdown",
      "metadata": {
        "id": "IB9l-K3FdIZc"
      },
      "source": [
        "***Operations on Vectors using Python !***\n",
        "\n",
        "1. **Scalar Multiplication:** In this  Scalar multiplication of a vector, Multiplying a scalar by a vector is called the scalar multiplication operation.\n",
        "\n",
        "2. **Addition and subtraction of two vectors:** Performing the arithmetic operations Addition and Subraction on two vectors.\n",
        "\n",
        "3. **Dot Product:** The dot product of two vectors of length n, the dot product of two vectors equals the cosine of the angle between the vectors multiplied by the magnitudes of the vectors.\n",
        "\n",
        "4. **Cross Product:** The cross product, which is defined for 3D-vectors: It can be dervied only for the 3 Dimensional vectors, The cross product a × b of two vectors is another vector that is at right angles to both.\n",
        "\n",
        "\n",
        "\n"
      ]
    },
    {
      "cell_type": "markdown",
      "metadata": {
        "id": "H73Z5iIUdIZd"
      },
      "source": [
        "## Approach\n",
        "\n",
        "I have used basic approach of giving the values of the list in the functions and performed the operations and displayed the output for the operations.\n",
        "\n",
        "I have manually provided the values of the list in the fucntion and  returned the result. The mathematical for the basic understanding of Arithmetic operations on the vector is given below in the Manual calculation space.\n"
      ]
    },
    {
      "cell_type": "markdown",
      "metadata": {
        "id": "G_0ctPk9dIZe"
      },
      "source": [
        "Manual Calculations\n",
        "\n",
        "Take two vectors U and V and let's give the values of the vectors as,\n",
        "U=[2,3] V=[4,2]\n",
        "Addition:\n",
        "U+V=[6,5]\n",
        "Subraction:\n",
        "U-V=[-2,-3]\n",
        "Dot product:\n",
        "U.V= U1V1 + U2V2\n",
        "U.V= (2)*(4) + (3)*(2)\n",
        "U.V= 8+6=14"
      ]
    },
    {
      "cell_type": "markdown",
      "metadata": {
        "id": "FQstGwN-dIZf"
      },
      "source": [
        "## Code"
      ]
    },
    {
      "cell_type": "code",
      "source": [
        "#Scalar Multiplication of vector and a saclar\n",
        "\n",
        "def ScalarMultiply(listforScalarMult,a):\n",
        "    scalarMultiplicationResult = []\n",
        "    for i in listforScalarMult:\n",
        "      scalarMultiplicationResult.append(i*a);\n",
        "    return (scalarMultiplicationResult)\n",
        "\n",
        "listforScalarMult = [4, 8, 2, 10]\n",
        "a=2\n",
        "resultlistScalar_Mult = ScalarMultiply(listforScalarMult,a)\n",
        "print(\"After ScalarMultiply:\", resultlistScalar_Mult)\n",
        "\n",
        "#Vector Addition of two vectors\n",
        "\n",
        "def vector_add(list1forAdd,list2forAdd):\n",
        "   vectorAddResult = []\n",
        "   if(len(list1forAdd)!=len(list2forAdd)):\n",
        "    print(\"Operation cannot be performed as the size of the vectors are not same\")\n",
        "   else :\n",
        "    for i in range(len(list1forAdd)):\n",
        "      vectorAddResult.append(list1forAdd[i] + list2forAdd[i])\n",
        "    return (vectorAddResult)\n",
        "\n",
        "list1forAdd = [4, 8, 2]\n",
        "list2forAdd = [3, 5, 7]\n",
        "resultaddlist = vector_add(list1forAdd, list2forAdd)\n",
        "print(\"Result of vector Addition:\", resultaddlist)\n",
        "\n",
        "#Vector Subraction of two vectors\n",
        "\n",
        "def vector_sub(list1forSub,list2forSub):\n",
        "   vectorSubResult = []\n",
        "   if(len(list1forSub)!=len(list2forSub)):\n",
        "    print(\"Operation cannot be performed as the size of the vectors are not same\")\n",
        "   else :\n",
        "    for i in range(len(list1forSub)):\n",
        "      vectorSubResult.append(list1forSub[i] - list2forSub[i])\n",
        "    return (vectorSubResult)\n",
        "\n",
        "list1forSub = [4, 8, 2]\n",
        "list2forSub = [3, 5, 7]\n",
        "resultsublist = vector_sub(list1forSub, list2forSub)\n",
        "print(\"Result of vector Subraction:\", resultsublist)\n",
        "\n",
        "#Dot product of two Vectors\n",
        "\n",
        "def dot_product(listforDotPrd1,listforDotPrd2):\n",
        "   dotPrdResult = 0\n",
        "   if(len(listforDotPrd1)!=len(listforDotPrd2)):\n",
        "    print(\"Operation cannot be performed as the size of the vectors are not same\")\n",
        "   else :\n",
        "    for i in range(0, len(listforDotPrd1)):\n",
        "     dotPrdResult+=(listforDotPrd1[i] * listforDotPrd2[i])\n",
        "    return(dotPrdResult)\n",
        "\n",
        "listforDotPrd1 = [4, 8, 2]\n",
        "listforDotPrd2 = [3, 5, 7]\n",
        "resultdotproductlist = dot_product(listforDotPrd1,listforDotPrd2)\n",
        "print(\"Result of Dot Product:\", resultdotproductlist)\n",
        "\n",
        "#Cross product of two Vectors\n",
        "\n",
        "def cross_product(listForcrossPrd1,listForcrossPrd2):\n",
        "   crossPrdResult = []\n",
        "   if(len(listForcrossPrd1)!=len(listForcrossPrd2)):\n",
        "     print(\"Operation cannot be performed as the size of the vectors are not same\")\n",
        "   else :\n",
        "     for i in range(0, len(listForcrossPrd1)):\n",
        "      crossPrdResult= [listForcrossPrd1[1]*listForcrossPrd2[2] - listForcrossPrd1[2]*listForcrossPrd2[1],\n",
        "            listForcrossPrd1[2]*listForcrossPrd2[0] - listForcrossPrd1[0]*listForcrossPrd2[2],\n",
        "            listForcrossPrd1[0]*listForcrossPrd2[1] - listForcrossPrd1[1]*listForcrossPrd2[0]]\n",
        "     return(crossPrdResult)\n",
        "\n",
        "listForcrossPrd1 = [4, 8,2]\n",
        "listForcrossPrd2 = [3, 5, 7]\n",
        "resultcrossproductlist = cross_product(listForcrossPrd1,listForcrossPrd2)\n",
        "print(\"Result of Cross Product:\", resultcrossproductlist)\n"
      ],
      "metadata": {
        "colab": {
          "base_uri": "https://localhost:8080/"
        },
        "id": "6Uq-GambgQAZ",
        "outputId": "db55ce5e-19fa-4dcc-ae91-f198a6c032f5"
      },
      "execution_count": 17,
      "outputs": [
        {
          "output_type": "stream",
          "name": "stdout",
          "text": [
            "After ScalarMultiply: [8, 16, 4, 20]\n",
            "Result of vector Addition: [7, 13, 9]\n",
            "Result of vector Subraction: [1, 3, -5]\n",
            "Result of Dot Product: 66\n",
            "Result of Cross Product: [46, -22, -4]\n"
          ]
        }
      ]
    },
    {
      "cell_type": "markdown",
      "source": [
        "# Task 2"
      ],
      "metadata": {
        "id": "DzXcQC_VvBnn"
      }
    },
    {
      "cell_type": "markdown",
      "source": [
        "***Matrix Operations:***\n",
        "\n"
      ],
      "metadata": {
        "id": "OZ45_T0kvZEz"
      }
    },
    {
      "cell_type": "markdown",
      "source": [
        "**Calculate and return the size of a matrix as a 2-dimensional tuple**"
      ],
      "metadata": {
        "id": "PeQiZNY6v85p"
      }
    },
    {
      "cell_type": "code",
      "source": [
        "\n",
        "class MatrixSizeCalculation:\n",
        "\n",
        "  def Matrix_Size(M):\n",
        "    column1 = len(M)\n",
        "    row1= len(M[0])\n",
        "    print(f\"Size of Matrix in Tuple:\",(row1,column1));\n",
        "\n",
        "MatrixSizeCalculation.Matrix_Size([[1,3,5],[5,6,8],[9,8,7]])\n",
        "\n",
        "class MatrixSum:\n",
        "  def Matrix_Addition(M1,M2):\n",
        "    columnA=len(M1)\n",
        "    rowA=len(M1[0])\n",
        "    columnB=len(M2)\n",
        "    rowB=len(M2[0])\n",
        "    result = [[0,0,0],[0,0,0],[0,0,0]]\n",
        "    if rowA != rowB or columnA != columnB:\n",
        "      print(\"Operation cannot be processed,please input matrices of the same size\")\n",
        "    else :\n",
        "      for i in range(len(M1)):\n",
        "       for j in range(len(M2[0])):\n",
        "        result[i][j] = M1[i][j] + M2[i][j]\n",
        "      print(\"Sum Of Two Matrices is:\",result)\n",
        "MatrixSum.Matrix_Addition([[1,3,5],[5,6,8],[9,8,7]],[[1,7,5],[3,6,8],[3,6,2]])\n",
        "MatrixSum.Matrix_Addition([[1,3,5],[5,6,8],[9,8,7]],[[1,7,5],[3,6,8]])\n",
        "\n",
        "class MatrixDifference:\n",
        "  def Matrix_Subraction(M1,M2):\n",
        "    columnA=len(M1)\n",
        "    rowA=len(M1[0])\n",
        "    columnB=len(M2)\n",
        "    rowB=len(M2[0])\n",
        "    result = [[0,0,0],[0,0,0],[0,0,0]]\n",
        "    if rowA != rowB or columnA != columnB:\n",
        "      print(\"Operation cannot be processed,please input matrices of the same size\")\n",
        "    else :\n",
        "      for i in range(len(M1)):\n",
        "       for j in range(len(M1[0])):\n",
        "        result[i][j] = M1[i][j] - M2[i][j]\n",
        "      print(\"Result of Matrix Subtraction is: \",result)\n",
        "MatrixDifference.Matrix_Subraction([[1,8,6],[4,3,8],[2,6,9]],[[1,7,5],[2,7,5],[7,2,1]])\n",
        "MatrixDifference.Matrix_Subraction([[1,8,6],[4,3,8],[2,6,9]],[[1,7,5],[2,7,5]])\n",
        "\n",
        "#Performing the Multiplication of Vector with Matrix\n",
        "\n",
        "class MatrixVectMat:\n",
        "  def VectMat_Mul(M1,vector):\n",
        "    columnA=len(M1)\n",
        "    rowA=len(M1[0])\n",
        "    columnB=len(vector)\n",
        "    rowB=len(vector[0])\n",
        "    #result = [0]\n",
        "    result = [[0 for _ in range(len(vector[0]))] for _ in range(len(M1))]\n",
        "    if rowA != columnB:\n",
        "      print(\"Operation cannot be processed due to mismatch in the size of the vector and Matrix\")\n",
        "    else :\n",
        "      for i in range(len(M1)):\n",
        "        for j in range(len(vector[0])):\n",
        "            for k in range(len(vector)):\n",
        "                result[i][j] += M1[i][k] * vector[k][j]\n",
        "      print(\"Vector and Matrix Multiplication Result is: \",result)\n",
        "MatrixVectMat.VectMat_Mul([[3,4,6]],[[2],[4],[6]])\n",
        "MatrixVectMat.VectMat_Mul([[3,4,6]],[[2],[4]])\n",
        "\n",
        "#Performing the Multiplication of a Matrix with another Matrix\n",
        "class MatrixMulProduct:\n",
        "  def Matrix_Mul(M1,M2):\n",
        "    columnA=len(M1)\n",
        "    rowA=len(M1[0])\n",
        "    columnB=len(M2)\n",
        "    rowB=len(M2[0])\n",
        "    #result = [0]\n",
        "    result = [[0 for _ in range(len(M2[0]))] for _ in range(len(M1))]\n",
        "    if rowA != columnB:\n",
        "      print(\"Operation cannot be processed due to mismatch in the size\")\n",
        "    else :\n",
        "      for i in range(len(M1)):\n",
        "        for j in range(len(M2[0])):\n",
        "            for k in range(len(M2)):\n",
        "                result[i][j] += M1[i][k] * M2[k][j]\n",
        "      print(\"Matrix multiplication result is:\",result)\n",
        "MatrixMulProduct.Matrix_Mul([[1,3,5],[2,8,5]],[[1,2],[2,4],[4,5]])\n",
        "MatrixMulProduct.Matrix_Mul([[1,3,5],[1,3,5]],[[1,2,3]])\n",
        "\n",
        "#Performing the Matrix Determinant\n",
        "class MatrixDeterminant:\n",
        "  def Matrix_Determinant(M):\n",
        "\n",
        "    if len(M) == 2:\n",
        "        print(\"Matrix Determinant is:\", M[0][0]*M[1][1]-M[0][1]*M[1][0])\n",
        "    else:\n",
        "      print(\"Size of the matrix is more than 2. Hence, cannot process the determinant\")\n",
        "MatrixDeterminant.Matrix_Determinant([[6,7],[2,4]])\n",
        "MatrixDeterminant.Matrix_Determinant([[6,7],[2,4],[4,5]])\n",
        "\n",
        "#Performing Inverse of a Matrix\n",
        "class MatrixInverse:\n",
        "  def Matrix_Inverse(M):\n",
        "      if len(M) == 2:\n",
        "        determinant1= M[0][0]*M[1][1]-M[0][1]*M[1][0]\n",
        "        if determinant1 == 0:\n",
        "          print(\"The matrix cannot be inversed\")\n",
        "        else:\n",
        "          print( [[M[1][1]/determinant1, -1*M[0][1]/determinant1],\n",
        "                [-1*M[1][0]/determinant1, M[0][0]/determinant1]]  )\n",
        "      else:\n",
        "            print(\"Size of the matrix is more than 2. Hence, cannot process the determinant\")\n",
        "\n",
        "MatrixInverse.Matrix_Inverse([[6,7],[2,4]])\n",
        "MatrixInverse.Matrix_Inverse([[1,2],[2,4]])\n",
        "MatrixInverse.Matrix_Inverse([[6,7],[2,4],[1,3]])"
      ],
      "metadata": {
        "colab": {
          "base_uri": "https://localhost:8080/"
        },
        "id": "426LMSvzvX7Y",
        "outputId": "950475e6-efde-4e56-fede-ef855fe6d78a"
      },
      "execution_count": 18,
      "outputs": [
        {
          "output_type": "stream",
          "name": "stdout",
          "text": [
            "Size of Matrix in Tuple: (3, 3)\n",
            "Sum Of Two Matrices is: [[2, 10, 10], [8, 12, 16], [12, 14, 9]]\n",
            "Operation cannot be processed,please input matrices of the same size\n",
            "Result of Matrix Subtraction is:  [[0, 1, 1], [2, -4, 3], [-5, 4, 8]]\n",
            "Operation cannot be processed,please input matrices of the same size\n",
            "Vector and Matrix Multiplication Result is:  [[58]]\n",
            "Operation cannot be processed due to mismatch in the size of the vector and Matrix\n",
            "Matrix multiplication result is: [[27, 39], [38, 61]]\n",
            "Operation cannot be processed due to mismatch in the size\n",
            "Matrix Determinant is: 10\n",
            "Size of the matrix is more than 2. Hence, cannot process the determinant\n",
            "[[0.4, -0.7], [-0.2, 0.6]]\n",
            "The matrix cannot be inversed\n",
            "Size of the matrix is more than 2. Hence, cannot process the determinant\n"
          ]
        }
      ]
    },
    {
      "cell_type": "markdown",
      "metadata": {
        "id": "lRDTSC7sdIZh"
      },
      "source": [
        "## Discussion\n",
        "\n",
        "All this functions are very fast with numpy but doing this without numpy was a bit challenging and complex. Asking from the project or work point of view, we will be using numpy for the mathematical calculations or the manual calculations like this?"
      ]
    },
    {
      "cell_type": "code",
      "source": [],
      "metadata": {
        "id": "-n6AxONUvWh-"
      },
      "execution_count": 18,
      "outputs": []
    }
  ],
  "metadata": {
    "kernelspec": {
      "display_name": "Python 3 (ipykernel)",
      "language": "python",
      "name": "python3"
    },
    "language_info": {
      "codemirror_mode": {
        "name": "ipython",
        "version": 3
      },
      "file_extension": ".py",
      "mimetype": "text/x-python",
      "name": "python",
      "nbconvert_exporter": "python",
      "pygments_lexer": "ipython3",
      "version": "3.9.11"
    },
    "colab": {
      "provenance": []
    }
  },
  "nbformat": 4,
  "nbformat_minor": 0
}